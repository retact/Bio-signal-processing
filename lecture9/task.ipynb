{
  "nbformat": 4,
  "nbformat_minor": 0,
  "metadata": {
    "colab": {
      "name": "task.ipynb",
      "provenance": [],
      "authorship_tag": "ABX9TyObrFFg2CqzwqN3BgwH3SWf",
      "include_colab_link": true
    },
    "kernelspec": {
      "name": "python3",
      "display_name": "Python 3"
    },
    "language_info": {
      "name": "python"
    }
  },
  "cells": [
    {
      "cell_type": "markdown",
      "metadata": {
        "id": "view-in-github",
        "colab_type": "text"
      },
      "source": [
        "<a href=\"https://colab.research.google.com/github/retact/Bio-signal-processing/blob/main/lecture9/task.ipynb\" target=\"_parent\"><img src=\"https://colab.research.google.com/assets/colab-badge.svg\" alt=\"Open In Colab\"/></a>"
      ]
    },
    {
      "cell_type": "markdown",
      "metadata": {
        "id": "gNnpB3ONdW05"
      },
      "source": [
        "# **Lecture9 2021-11-17**\n"
      ]
    },
    {
      "cell_type": "markdown",
      "metadata": {
        "id": "OPFpily9axDU"
      },
      "source": [
        "\n",
        "**google drive mount**\n",
        "\n",
        "\n"
      ]
    },
    {
      "cell_type": "code",
      "metadata": {
        "colab": {
          "base_uri": "https://localhost:8080/",
          "height": 0
        },
        "id": "IABaCO_MXbth",
        "outputId": "33635a3f-38ed-4176-b4d1-2209e133f5f6"
      },
      "source": [
        "from google.colab import drive\n",
        "drive.mount('/content/drive')\n"
      ],
      "execution_count": 2,
      "outputs": [
        {
          "output_type": "stream",
          "name": "stdout",
          "text": [
            "Mounted at /content/drive\n"
          ]
        }
      ]
    },
    {
      "cell_type": "markdown",
      "metadata": {
        "id": "CcOyGxqlbWvO"
      },
      "source": [
        "**GitHubのデータをclone**"
      ]
    },
    {
      "cell_type": "code",
      "metadata": {
        "colab": {
          "base_uri": "https://localhost:8080/",
          "height": 0
        },
        "id": "146bY7IvXpy4",
        "outputId": "25233a20-b23f-4665-8665-477ebac88788"
      },
      "source": [
        "%cd /content/drive/My Drive/Biological_signal/\n",
        "!git clone https://github.com/retact/Bio-signal-processing.git"
      ],
      "execution_count": 4,
      "outputs": [
        {
          "output_type": "stream",
          "name": "stdout",
          "text": [
            "/content/drive/My Drive/Biological_signal\n",
            "Cloning into 'Bio-signal-processing'...\n",
            "remote: Enumerating objects: 178, done.\u001b[K\n",
            "remote: Counting objects: 100% (178/178), done.\u001b[K\n",
            "remote: Compressing objects: 100% (131/131), done.\u001b[K\n",
            "remote: Total 178 (delta 63), reused 127 (delta 40), pack-reused 0\u001b[K\n",
            "Receiving objects: 100% (178/178), 41.43 MiB | 13.27 MiB/s, done.\n",
            "Resolving deltas: 100% (63/63), done.\n",
            "Checking out files: 100% (76/76), done.\n"
          ]
        }
      ]
    },
    {
      "cell_type": "code",
      "metadata": {
        "colab": {
          "base_uri": "https://localhost:8080/",
          "height": 0
        },
        "id": "dAa4SFDPaPC8",
        "outputId": "39fc6005-b593-4732-f3b3-4eb993b13e4d"
      },
      "source": [
        "!pwd"
      ],
      "execution_count": 5,
      "outputs": [
        {
          "output_type": "stream",
          "name": "stdout",
          "text": [
            "/content/drive/My Drive/Biological_signal\n"
          ]
        }
      ]
    },
    {
      "cell_type": "markdown",
      "metadata": {
        "id": "MTURALH7bbsL"
      },
      "source": [
        "# **Task**  \n",
        "\n",
        "**画像を読み込み,解像度を確認,ウィンドウに表示しなさい**"
      ]
    },
    {
      "cell_type": "code",
      "metadata": {
        "colab": {
          "base_uri": "https://localhost:8080/",
          "height": 0
        },
        "id": "3GMYIzssautq",
        "outputId": "6daad9d5-8814-4461-f321-f1c5f572fe5a"
      },
      "source": [
        "%matplotlib inline\n",
        "import cv2\n",
        "from skimage.io import imread\n",
        "import matplotlib.pylab as plt\n",
        "\n",
        "img = cv2.imread(\"/content/drive/MyDrive/Biological_signal/Bio-signal-processing/lecture9/sample_image/IMG_6205.png\")\n",
        "print(\"A, 解像度:\", img.shape[0], \"px ×\", img.shape[1], \"px\")"
      ],
      "execution_count": 11,
      "outputs": [
        {
          "output_type": "stream",
          "name": "stdout",
          "text": [
            "A, 解像度: 750 px × 1334 px\n"
          ]
        }
      ]
    },
    {
      "cell_type": "code",
      "metadata": {
        "colab": {
          "base_uri": "https://localhost:8080/",
          "height": 256
        },
        "id": "XvsOaU8Ab_Du",
        "outputId": "8f1f3a90-a2d4-4666-8eb2-eb2c6e3ac0d3"
      },
      "source": [
        "plt.imshow(cv2.cvtColor(img, cv2.COLOR_BGR2RGB))"
      ],
      "execution_count": 8,
      "outputs": [
        {
          "output_type": "execute_result",
          "data": {
            "text/plain": [
              "<matplotlib.image.AxesImage at 0x7fc17e871ed0>"
            ]
          },
          "metadata": {},
          "execution_count": 8
        },
        {
          "output_type": "display_data",
          "data": {
            "image/png": "[encoded data removed]",
            "text/plain": [
              "<Figure size 432x288 with 1 Axes>"
            ]
          },
          "metadata": {
            "needs_background": "light"
          }
        }
      ]
    },
    {
      "cell_type": "code",
      "metadata": {
        "id": "KBLEzHrZcZER"
      },
      "source": [
        ""
      ],
      "execution_count": null,
      "outputs": []
    }
  ]
}